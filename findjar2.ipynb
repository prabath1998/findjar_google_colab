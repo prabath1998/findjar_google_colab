{
  "nbformat": 4,
  "nbformat_minor": 0,
  "metadata": {
    "colab": {
      "provenance": [],
      "authorship_tag": "ABX9TyPEKu48SAL9P0Tt/hHdUV2z",
      "include_colab_link": true
    },
    "kernelspec": {
      "name": "python3",
      "display_name": "Python 3"
    },
    "language_info": {
      "name": "python"
    }
  },
  "cells": [
    {
      "cell_type": "markdown",
      "metadata": {
        "id": "view-in-github",
        "colab_type": "text"
      },
      "source": [
        "<a href=\"https://colab.research.google.com/github/prabath1998/findjar_google_colab/blob/main/findjar2.ipynb\" target=\"_parent\"><img src=\"https://colab.research.google.com/assets/colab-badge.svg\" alt=\"Open In Colab\"/></a>"
      ]
    },
    {
      "cell_type": "code",
      "execution_count": 3,
      "metadata": {
        "colab": {
          "base_uri": "https://localhost:8080/"
        },
        "id": "2iTOlAmBIuo1",
        "outputId": "1e6d9be2-7a09-4f0f-f4e1-6162ceec60b1"
      },
      "outputs": [
        {
          "output_type": "stream",
          "name": "stdout",
          "text": [
            "Bottle 3 has the 9g pills\n"
          ]
        }
      ],
      "source": [
        "def find_lighter_bottle(actual_weights):\n",
        "\n",
        "    expected_total = (1 + 2 + 3 + 4 + 5) * 10\n",
        "    actual_total = sum(actual_weights)\n",
        "    return expected_total - actual_total\n",
        "\n",
        "weights = [10, 20, 27, 40, 50]\n",
        "bottle = find_lighter_bottle(weights)\n",
        "\n",
        "print(f\"Bottle {bottle} has the 9g pills\")"
      ]
    }
  ]
}