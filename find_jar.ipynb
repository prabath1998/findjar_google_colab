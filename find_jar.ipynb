{
  "nbformat": 4,
  "nbformat_minor": 0,
  "metadata": {
    "colab": {
      "provenance": [],
      "authorship_tag": "ABX9TyMdqj1GU4FvdX5rONrCPbUf",
      "include_colab_link": true
    },
    "kernelspec": {
      "name": "python3",
      "display_name": "Python 3"
    },
    "language_info": {
      "name": "python"
    }
  },
  "cells": [
    {
      "cell_type": "markdown",
      "metadata": {
        "id": "view-in-github",
        "colab_type": "text"
      },
      "source": [
        "<a href=\"https://colab.research.google.com/github/prabath1998/findjar_google_colab/blob/main/find_jar.ipynb\" target=\"_parent\"><img src=\"https://colab.research.google.com/assets/colab-badge.svg\" alt=\"Open In Colab\"/></a>"
      ]
    },
    {
      "cell_type": "code",
      "source": [
        "def find_light_jar(*jars):\n",
        "    expected_weight = sum(range(1, len(jars) + 1)) * 10\n",
        "    actual_weight = sum((i + 1) * jars[i] for i in range(len(jars)))\n",
        "    print(f\"Jar {expected_weight - actual_weight} contains the 9g pills.\")\n",
        "\n",
        "find_light_jar(10, 9, 10, 10, 10)\n"
      ],
      "metadata": {
        "colab": {
          "base_uri": "https://localhost:8080/"
        },
        "id": "aOcrWh3s9GvH",
        "outputId": "6b5d9dc8-86cd-469c-d6fd-756b2ffc8e8c"
      },
      "execution_count": null,
      "outputs": [
        {
          "output_type": "stream",
          "name": "stdout",
          "text": [
            "Jar 2 contains the 9g pills.\n"
          ]
        }
      ]
    }
  ]
}