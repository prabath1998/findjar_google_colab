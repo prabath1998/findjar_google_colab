{
  "nbformat": 4,
  "nbformat_minor": 0,
  "metadata": {
    "colab": {
      "provenance": [],
      "authorship_tag": "ABX9TyOVlCDg5FXPvZrsm+apZM97",
      "include_colab_link": true
    },
    "kernelspec": {
      "name": "python3",
      "display_name": "Python 3"
    },
    "language_info": {
      "name": "python"
    }
  },
  "cells": [
    {
      "cell_type": "markdown",
      "metadata": {
        "id": "view-in-github",
        "colab_type": "text"
      },
      "source": [
        "<a href=\"https://colab.research.google.com/github/prabath1998/findjar_google_colab/blob/main/findjar3.ipynb\" target=\"_parent\"><img src=\"https://colab.research.google.com/assets/colab-badge.svg\" alt=\"Open In Colab\"/></a>"
      ]
    },
    {
      "cell_type": "code",
      "execution_count": 6,
      "metadata": {
        "colab": {
          "base_uri": "https://localhost:8080/"
        },
        "id": "2iTOlAmBIuo1",
        "outputId": "1f146768-76c1-42da-cf17-d4502fc2c10e"
      },
      "outputs": [
        {
          "output_type": "stream",
          "name": "stdout",
          "text": [
            "Bottle 4 has the 9g pills\n"
          ]
        }
      ],
      "source": [
        "def find_lighter_bottle(**weights):\n",
        "\n",
        "   expected_total = (1 + 2 + 3 + 4 + 5) * 10  # 150g\n",
        "   actual_total = sum(weights.values())\n",
        "   return expected_total - actual_total\n",
        "\n",
        "\n",
        "result = find_lighter_bottle(\n",
        "   bottle1=10,\n",
        "   bottle2=20,\n",
        "   bottle3=30,\n",
        "   bottle4=36,\n",
        "   bottle5=50\n",
        ")\n",
        "print(f\"Bottle {result} has the 9g pills\")"
      ]
    }
  ]
}